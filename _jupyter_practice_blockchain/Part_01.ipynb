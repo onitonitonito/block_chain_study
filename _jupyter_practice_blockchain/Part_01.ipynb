{
 "cells": [
  {
   "cell_type": "code",
   "execution_count": null,
   "metadata": {},
   "outputs": [],
   "source": []
  },
  {
   "cell_type": "code",
   "execution_count": 1,
   "metadata": {},
   "outputs": [],
   "source": [
    "import hashlib\n",
    "import json\n",
    "from time import time"
   ]
  },
  {
   "cell_type": "code",
   "execution_count": 2,
   "metadata": {},
   "outputs": [],
   "source": [
    "class Blockchain(object):\n",
    "    def __init__(self):\n",
    "        self.chain = []\n",
    "        self.current_transactions = []\n",
    "        \n",
    "    def new_block(self):\n",
    "        # Creates a new Block and adds it to the chain\n",
    "        pass\n",
    "    \n",
    "    def new_transaction(self, sender, recipient, amount):\n",
    "        \"\"\" Creates a new transaction to go into the next mined Block\n",
    "        :param sender: <str> Sender의 주소\n",
    "        :param recipient: <str> Recipient의 주소\n",
    "        :param amount: <int> Amount \n",
    "        :return: <int> 이 거래를 포함할 블록의 index 값\n",
    "        \"\"\"\n",
    "\n",
    "        self.current_transactions.append({\n",
    "          'sender': sender,\n",
    "          'recipient' : recipient,\n",
    "          'amount' : amount,\n",
    "        })\n",
    "\n",
    "        return self.last_block['index'] + 1   \n",
    "    \n",
    "    @staticmethod\n",
    "    def hash(block):\n",
    "        # Hashes a Block\n",
    "        pass\n",
    "\n",
    "    @property\n",
    "    def last_block(self):\n",
    "        # Returns the last Block in the chain\n",
    "        pass\n",
    "    \n",
    " "
   ]
  },
  {
   "cell_type": "code",
   "execution_count": null,
   "metadata": {},
   "outputs": [],
   "source": []
  }
 ],
 "metadata": {
  "kernelspec": {
   "display_name": "Python 3",
   "language": "python",
   "name": "python3"
  },
  "language_info": {
   "codemirror_mode": {
    "name": "ipython",
    "version": 3
   },
   "file_extension": ".py",
   "mimetype": "text/x-python",
   "name": "python",
   "nbconvert_exporter": "python",
   "pygments_lexer": "ipython3",
   "version": "3.6.5"
  }
 },
 "nbformat": 4,
 "nbformat_minor": 2
}
