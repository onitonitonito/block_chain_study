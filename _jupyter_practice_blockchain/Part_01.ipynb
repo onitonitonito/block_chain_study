{
 "cells": [
  {
   "cell_type": "code",
   "execution_count": 1,
   "metadata": {},
   "outputs": [
    {
     "data": {
      "text/plain": [
       "'\\n* 블록체인 구현 (블록생성, 트랜잭션, 작업증명, 마이닝)\\n* https://goo.gl/M6XU5v\\n'"
      ]
     },
     "execution_count": 1,
     "metadata": {},
     "output_type": "execute_result"
    }
   ],
   "source": [
    "\"\"\"\n",
    "* 블록체인 구현 (블록생성, 트랜잭션, 작업증명, 마이닝)\n",
    "* https://goo.gl/M6XU5v\n",
    "\"\"\""
   ]
  },
  {
   "cell_type": "code",
   "execution_count": 2,
   "metadata": {},
   "outputs": [],
   "source": [
    "import os\n",
    "import hashlib\n",
    "import json\n",
    "from time import time\n",
    "from uuid import uuid4"
   ]
  },
  {
   "cell_type": "code",
   "execution_count": 3,
   "metadata": {},
   "outputs": [],
   "source": [
    "# HOME = \"block_chain_study\"\n",
    "# DIRS = os.path.dirname(__file__).partition(HOME)\n",
    "# ROOT = DIRS[0] + DIRS[1]\n",
    "# FILE_W_DIR = ROOT + \"/block_class/chains.json\""
   ]
  },
  {
   "cell_type": "code",
   "execution_count": 4,
   "metadata": {},
   "outputs": [],
   "source": [
    "class BlockChain(object):\n",
    "    def __init__(self):\n",
    "        self.chain = []\n",
    "        self.current_transactions = []\n",
    "\n",
    "        if os.path.exists(FILE_W_DIR):\n",
    "            # if exist, read from chains.json\n",
    "            with open(FILE_W_DIR, \"r\") as f:\n",
    "                self.chain = json.load(f)\n",
    "        else:\n",
    "            # if not, make Genesis block, from the scratch.\n",
    "            self.new_block(proof=100, previous_hash=1)\n",
    "\n",
    "    def new_block(self, proof, previous_hash=None):\n",
    "        # Creates a new Block and adds it to the chain\n",
    "        block = {\n",
    "            \"index\": len(self.chain) + 1,\n",
    "            \"timestamp\": time(),\n",
    "            \"transactions\": self.current_transactions,\n",
    "            \"proof\": proof,\n",
    "            \"previous_hash\": previous_hash or self.hash(self.chain[-1])\n",
    "        }\n",
    "\n",
    "        self.current_transactions = []\n",
    "        self.chain.append(block)\n",
    "\n",
    "        return block\n",
    "\n",
    "    def new_transaction(self, sender, recipient, amount, hash=0):\n",
    "        \"\"\" Creates a new transaction to go into the next mined Block\n",
    "        * sender:    <str> Sender 주소(-> name)\n",
    "        * recipient: <str> Recipient 주소(-> name)\n",
    "        * amount:    <int> Amount\n",
    "        * return:    <int> 이 거래를 포함할 블록의 index 값\n",
    "        \"\"\"\n",
    "\n",
    "        if hash:\n",
    "            sender = self.hash(sender)\n",
    "            recipient = self.hash(recipient)\n",
    "\n",
    "        self.current_transactions.append({\n",
    "            'sender': sender,\n",
    "            'recipient': recipient,\n",
    "            'amount': amount,\n",
    "        })\n",
    "\n",
    "        return self.last_block['index'] + 1\n",
    "\n",
    "    @staticmethod\n",
    "    def hash(block):\n",
    "        # Hashes a Block ... malfuntion with sort_keys=True option\n",
    "        # block_string = json.dumps(block, sort_keys=True).encode()\n",
    "        block_string = json.dumps(block).encode()\n",
    "        return hashlib.sha256(block_string).hexdigest()\n",
    "\n",
    "    @staticmethod\n",
    "    def valid_proof(last_proof, proof):\n",
    "        # arg. of SHA256() should be binary (\"\".encode()) ... 64 bits\n",
    "        guess = str(last_proof * proof).encode()\n",
    "        guess_hash = hashlib.sha256(guess).hexdigest()\n",
    "        # mining is to find a hash starting with difficulty (consecutive zeros)\n",
    "        difficulty = \"0000\"\n",
    "        return guess_hash[:len(difficulty)] == difficulty\n",
    "\n",
    "    @property\n",
    "    def last_block(self):\n",
    "        # Returns the last Block in the chain\n",
    "        return self.chain[-1]\n",
    "\n",
    "    def proof_of_work(self, last_proof):\n",
    "        proof = 0\n",
    "        while self.valid_proof(last_proof, proof) is False:\n",
    "            proof += 1\n",
    "        return proof\n",
    "\n",
    "    def write_json(self):\n",
    "        with open(\"./block_class/chains.json\", \"w\") as f:\n",
    "            json.dump(self.chain, f)\n",
    "        return self.chain\n",
    "\n",
    "    def show_all_transaction(self, chains):\n",
    "        echo = \"\"\n",
    "        for n in range(len(chains)):\n",
    "\n",
    "            # 블럭 마이닝 보상거래 1개 이상의 거래가 존재 할 경우\n",
    "            if len(chains[n]['transactions']) > 1:\n",
    "                echo += \"\\n\\n------ index.%s / [%s] -------\"%(\n",
    "                    chains[n]['index'],\n",
    "                    len(chains[n]['transactions'])-1)\n",
    "\n",
    "                for m in range(len(chains[n]['transactions'])):\n",
    "\n",
    "                    # 마이닝 보상거래는 출력에서 제외 (보상: sender=\"0\")\n",
    "                    if chains[n]['transactions'][m]['sender'] is \"0\":\n",
    "                        pass\n",
    "\n",
    "                    else:\n",
    "                        echo += \"\\\n",
    "                            \\n* Sender   = {0} \\\n",
    "                            \\n* Recipent = {1} \\\n",
    "                            \\n* Amount   = {2:,}\\n\".format(\n",
    "                            chains[n]['transactions'][m]['sender'],\n",
    "                            chains[n]['transactions'][m]['recipient'],\n",
    "                            int(chains[n]['transactions'][m]['amount']),)\n",
    "\n",
    "            else:\n",
    "                echo += \"\\n\\n... index : %s ... NO TRANSACTIONS IN THIS LEDGER!\\\n",
    "                        \\n      (ONLY MINNING CONPENSATION or NOT)...\" % (n + 1)\n",
    "\n",
    "        return echo"
   ]
  },
  {
   "cell_type": "code",
   "execution_count": 5,
   "metadata": {},
   "outputs": [
    {
     "ename": "NameError",
     "evalue": "name 'FILE_W_DIR' is not defined",
     "output_type": "error",
     "traceback": [
      "\u001b[1;31m---------------------------------------------------------------------------\u001b[0m",
      "\u001b[1;31mNameError\u001b[0m                                 Traceback (most recent call last)",
      "\u001b[1;32m<ipython-input-5-a103941141bb>\u001b[0m in \u001b[0;36m<module>\u001b[1;34m()\u001b[0m\n\u001b[0;32m      3\u001b[0m \u001b[1;33m\u001b[0m\u001b[0m\n\u001b[0;32m      4\u001b[0m     \u001b[1;31m# 오브젝트 선언하는 순간, 최최의 Genesis Block을 생성한다\u001b[0m\u001b[1;33m\u001b[0m\u001b[1;33m\u001b[0m\u001b[0m\n\u001b[1;32m----> 5\u001b[1;33m     \u001b[0mbc\u001b[0m \u001b[1;33m=\u001b[0m \u001b[0mBlockChain\u001b[0m\u001b[1;33m(\u001b[0m\u001b[1;33m)\u001b[0m\u001b[1;33m\u001b[0m\u001b[0m\n\u001b[0m\u001b[0;32m      6\u001b[0m \u001b[1;33m\u001b[0m\u001b[0m\n\u001b[0;32m      7\u001b[0m     \u001b[0mpprint\u001b[0m\u001b[1;33m(\u001b[0m\u001b[0mbc\u001b[0m\u001b[1;33m.\u001b[0m\u001b[0mchain\u001b[0m\u001b[1;33m[\u001b[0m\u001b[1;33m-\u001b[0m\u001b[1;36m1\u001b[0m\u001b[1;33m]\u001b[0m\u001b[1;33m)\u001b[0m\u001b[1;33m\u001b[0m\u001b[0m\n",
      "\u001b[1;32m<ipython-input-4-53a88916d078>\u001b[0m in \u001b[0;36m__init__\u001b[1;34m(self)\u001b[0m\n\u001b[0;32m      4\u001b[0m         \u001b[0mself\u001b[0m\u001b[1;33m.\u001b[0m\u001b[0mcurrent_transactions\u001b[0m \u001b[1;33m=\u001b[0m \u001b[1;33m[\u001b[0m\u001b[1;33m]\u001b[0m\u001b[1;33m\u001b[0m\u001b[0m\n\u001b[0;32m      5\u001b[0m \u001b[1;33m\u001b[0m\u001b[0m\n\u001b[1;32m----> 6\u001b[1;33m         \u001b[1;32mif\u001b[0m \u001b[0mos\u001b[0m\u001b[1;33m.\u001b[0m\u001b[0mpath\u001b[0m\u001b[1;33m.\u001b[0m\u001b[0mexists\u001b[0m\u001b[1;33m(\u001b[0m\u001b[0mFILE_W_DIR\u001b[0m\u001b[1;33m)\u001b[0m\u001b[1;33m:\u001b[0m\u001b[1;33m\u001b[0m\u001b[0m\n\u001b[0m\u001b[0;32m      7\u001b[0m             \u001b[1;31m# if exist, read from chains.json\u001b[0m\u001b[1;33m\u001b[0m\u001b[1;33m\u001b[0m\u001b[0m\n\u001b[0;32m      8\u001b[0m             \u001b[1;32mwith\u001b[0m \u001b[0mopen\u001b[0m\u001b[1;33m(\u001b[0m\u001b[0mFILE_W_DIR\u001b[0m\u001b[1;33m,\u001b[0m \u001b[1;34m\"r\"\u001b[0m\u001b[1;33m)\u001b[0m \u001b[1;32mas\u001b[0m \u001b[0mf\u001b[0m\u001b[1;33m:\u001b[0m\u001b[1;33m\u001b[0m\u001b[0m\n",
      "\u001b[1;31mNameError\u001b[0m: name 'FILE_W_DIR' is not defined"
     ]
    }
   ],
   "source": [
    "if __name__ == '__main__':\n",
    "    from pprint import pprint\n",
    "\n",
    "    # 오브젝트 선언하는 순간, 최최의 Genesis Block을 생성한다\n",
    "    bc = BlockChain()\n",
    "\n",
    "    pprint(bc.chain[-1])\n",
    "    input(\"\\n... 제네시스 블럭생성 ...\\n\\n\\n\")\n",
    "\n",
    "\n",
    "    # 제네시스 블록을 해쉬해서 다음블록에 기록한다.\n",
    "    blocks_hashed = bc.hash(bc.chain[-1])\n",
    "    print (\"\\n... 젠블록에 해쉬함수 적용 / 길이 = {1} bits\\\n",
    "            \\n{0} \\n\\n\\n\".format(blocks_hashed,len(blocks_hashed)))\n",
    "\n",
    "\n",
    "    # 블록과 블록사이에서, 2개의 트랜젝션이 발생시킨다.\n",
    "    bc.new_transaction(sender='Scrouge', recipient='Alice', amount=200)\n",
    "    bc.new_transaction(sender='Alice', recipient='Bob', amount=150)\n",
    "\n",
    "    pprint(bc.current_transactions)\n",
    "    input(\"\\n... 트랜잭션 2개 발생 ...\\n\\n\\n\")"
   ]
  }
 ],
 "metadata": {
  "kernelspec": {
   "display_name": "Python 3",
   "language": "python",
   "name": "python3"
  },
  "language_info": {
   "codemirror_mode": {
    "name": "ipython",
    "version": 3
   },
   "file_extension": ".py",
   "mimetype": "text/x-python",
   "name": "python",
   "nbconvert_exporter": "python",
   "pygments_lexer": "ipython3",
   "version": "3.6.5"
  }
 },
 "nbformat": 4,
 "nbformat_minor": 2
}
